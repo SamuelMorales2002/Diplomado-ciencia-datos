{
  "nbformat": 4,
  "nbformat_minor": 0,
  "metadata": {
    "colab": {
      "provenance": []
    },
    "kernelspec": {
      "name": "python3",
      "display_name": "Python 3"
    },
    "language_info": {
      "name": "python"
    }
  },
  "cells": [
    {
      "cell_type": "markdown",
      "source": [
        "##Proyecto 1: Predicción de sentimiento de comentario en twitter mediante modelo LSTM##\n",
        "Para este caso, se eligió una base de datos de kaggle que cuenta con una columna que contiene comentarios de la red social twitter, y en su columna adyacente valores numericos para el sentimiento que se expresa, siendo -1 destinado para sentimientos negativos, 0 para neutrales y 1 para positivos.\n",
        "Cosas importantes que mencionar es el hecho de que se trabajó con una parte pequeña del dataset(solo 10000 valores de 162000 aproximadamente) para mayor facilidad,se modificaron los valores para sentimientos a 0, 1 y 2 respectivamente para no generar ningun error en la sección de entrenamiento, y se observa que el texto ya ha tenido algun tipo de tratamiento previo, sin embargo, se continuó con la limpieza correspondiente con el fin de evitar cualquier posible valor imprevisto.\n",
        "Samuel Morales Garrido"
      ],
      "metadata": {
        "id": "cnOZRPY3lsqH"
      }
    },
    {
      "cell_type": "markdown",
      "source": [
        "##[LINK BASE DE DATOS](https://www.kaggle.com/datasets/saurabhshahane/twitter-sentiment-dataset/data)##"
      ],
      "metadata": {
        "id": "c-90KulyMqyr"
      }
    },
    {
      "cell_type": "code",
      "source": [
        "import numpy as np\n",
        "import pandas as pd\n",
        "import re\n",
        "import nltk\n",
        "from nltk.corpus import stopwords\n",
        "from nltk.stem import WordNetLemmatizer\n",
        "from tensorflow.keras.preprocessing.text import Tokenizer\n",
        "from tensorflow.keras.preprocessing.sequence import pad_sequences\n",
        "from tensorflow.keras.models import Sequential\n",
        "from tensorflow.keras.layers import Embedding, LSTM, Dense, Dropout, BatchNormalization\n",
        "from tensorflow.keras.regularizers import l2\n",
        "from tensorflow.keras.callbacks import EarlyStopping\n",
        "from sklearn.model_selection import train_test_split\n",
        "from sklearn.metrics import classification_report, confusion_matrix\n",
        "import matplotlib.pyplot as plt\n",
        "import seaborn as sns\n",
        "\n",
        "nltk.download('stopwords')\n",
        "nltk.download('wordnet')\n",
        "nltk.download('punkt')"
      ],
      "metadata": {
        "colab": {
          "base_uri": "https://localhost:8080/"
        },
        "id": "MG5zlNhqGqps",
        "outputId": "2c6b76d9-5727-4c7f-d796-7a4053effd27"
      },
      "execution_count": 9,
      "outputs": [
        {
          "output_type": "stream",
          "name": "stderr",
          "text": [
            "[nltk_data] Downloading package stopwords to /root/nltk_data...\n",
            "[nltk_data]   Package stopwords is already up-to-date!\n",
            "[nltk_data] Downloading package wordnet to /root/nltk_data...\n",
            "[nltk_data]   Package wordnet is already up-to-date!\n",
            "[nltk_data] Downloading package punkt to /root/nltk_data...\n",
            "[nltk_data]   Package punkt is already up-to-date!\n"
          ]
        },
        {
          "output_type": "execute_result",
          "data": {
            "text/plain": [
              "True"
            ]
          },
          "metadata": {},
          "execution_count": 9
        }
      ]
    },
    {
      "cell_type": "code",
      "source": [
        "# 1. Cargar datos\n",
        "df = pd.read_csv(\"/content/Twitter_Data.csv\", header=None, names=['text', 'sentiment'])\n",
        "df = df.sample(n=10000, random_state=42)\n",
        "texts = df[\"text\"].values\n",
        "labels = df[\"sentiment\"].values\n",
        "label_mapping = {'Negative': 0, 'Neutral': 1, 'Positive': 2, '-1': 0, '0': 0, '1': 1}\n",
        "labels = df[\"sentiment\"].map(label_mapping).fillna(0).astype(int)\n",
        "y = np.array(labels)"
      ],
      "metadata": {
        "id": "mZulOCvCGu7r"
      },
      "execution_count": 10,
      "outputs": []
    },
    {
      "cell_type": "code",
      "source": [
        "# 2. Limpieza de texto\n",
        "lemmatizer = WordNetLemmatizer()\n",
        "stop_words = set(stopwords.words('english'))\n",
        "\n",
        "def limpiar_texto(texto):\n",
        "    texto = texto.lower()\n",
        "    texto = re.sub(r'<[^>]+>', '', texto)\n",
        "    texto = re.sub(r'[^a-zA-Z\\s]', '', texto)\n",
        "    palabras = texto.split()\n",
        "    palabras = [lemmatizer.lemmatize(p) for p in palabras if p not in stop_words]\n",
        "    return \" \".join(palabras)\n",
        "\n",
        "cleaned_texts = [limpiar_texto(t) for t in texts]"
      ],
      "metadata": {
        "id": "uRliCd50Gw7L"
      },
      "execution_count": 11,
      "outputs": []
    },
    {
      "cell_type": "code",
      "source": [
        "# 3. Tokenización\n",
        "tokenizer = Tokenizer(num_words=10000, oov_token='<OOV>')\n",
        "tokenizer.fit_on_texts(cleaned_texts)\n",
        "sequences = tokenizer.texts_to_sequences(cleaned_texts)\n",
        "X = pad_sequences(sequences, maxlen=100, padding='post', truncating='post')"
      ],
      "metadata": {
        "id": "tGx5Upd2G0Xd"
      },
      "execution_count": 12,
      "outputs": []
    },
    {
      "cell_type": "code",
      "source": [
        "# 4. División train/test\n",
        "X_train, X_test, y_train, y_test = train_test_split(\n",
        "    X, y, test_size=0.2, random_state=42, stratify=y)"
      ],
      "metadata": {
        "id": "OEblJ5zmG2gS"
      },
      "execution_count": 13,
      "outputs": []
    },
    {
      "cell_type": "code",
      "source": [
        "# 5. Modelo\n",
        "model = Sequential()\n",
        "model.add(Embedding(input_dim=10000, output_dim=128, input_length=100))\n",
        "model.add(LSTM(64, return_sequences=True))\n",
        "model.add(BatchNormalization())\n",
        "model.add(Dropout(0.5))\n",
        "model.add(LSTM(32))\n",
        "model.add(Dense(32, activation='relu', kernel_regularizer=l2(0.01)))\n",
        "model.add(Dropout(0.5))\n",
        "model.add(Dense(3, activation='softmax'))\n",
        "\n",
        "model.compile(loss='sparse_categorical_crossentropy', optimizer='adam', metrics=['accuracy'])"
      ],
      "metadata": {
        "colab": {
          "base_uri": "https://localhost:8080/"
        },
        "id": "cewXpeWeG50H",
        "outputId": "1c0b55d6-4b24-4999-cf02-0d6f98caa591"
      },
      "execution_count": 14,
      "outputs": [
        {
          "output_type": "stream",
          "name": "stderr",
          "text": [
            "/usr/local/lib/python3.11/dist-packages/keras/src/layers/core/embedding.py:90: UserWarning: Argument `input_length` is deprecated. Just remove it.\n",
            "  warnings.warn(\n"
          ]
        }
      ]
    },
    {
      "cell_type": "code",
      "source": [
        "# 6. Entrenamiento\n",
        "stop = EarlyStopping(monitor='val_loss', patience=3, restore_best_weights=True)\n",
        "hist = model.fit(X_train, y_train, validation_split=0.2, epochs=30, batch_size=64, callbacks=[stop])"
      ],
      "metadata": {
        "colab": {
          "base_uri": "https://localhost:8080/"
        },
        "id": "IapYFiWMBrLW",
        "outputId": "41626d50-c0a6-4d78-cd07-500dea75b35a"
      },
      "execution_count": 16,
      "outputs": [
        {
          "output_type": "stream",
          "name": "stdout",
          "text": [
            "Epoch 1/30\n",
            "\u001b[1m100/100\u001b[0m \u001b[32m━━━━━━━━━━━━━━━━━━━━\u001b[0m\u001b[37m\u001b[0m \u001b[1m25s\u001b[0m 246ms/step - accuracy: 0.5305 - loss: 0.9380 - val_accuracy: 0.5475 - val_loss: 0.8201\n",
            "Epoch 2/30\n",
            "\u001b[1m100/100\u001b[0m \u001b[32m━━━━━━━━━━━━━━━━━━━━\u001b[0m\u001b[37m\u001b[0m \u001b[1m38s\u001b[0m 222ms/step - accuracy: 0.5332 - loss: 0.8112 - val_accuracy: 0.5475 - val_loss: 0.7525\n",
            "Epoch 3/30\n",
            "\u001b[1m100/100\u001b[0m \u001b[32m━━━━━━━━━━━━━━━━━━━━\u001b[0m\u001b[37m\u001b[0m \u001b[1m22s\u001b[0m 214ms/step - accuracy: 0.5569 - loss: 0.7477 - val_accuracy: 0.5475 - val_loss: 0.7204\n",
            "Epoch 4/30\n",
            "\u001b[1m100/100\u001b[0m \u001b[32m━━━━━━━━━━━━━━━━━━━━\u001b[0m\u001b[37m\u001b[0m \u001b[1m41s\u001b[0m 220ms/step - accuracy: 0.5710 - loss: 0.7164 - val_accuracy: 0.5475 - val_loss: 0.7005\n",
            "Epoch 5/30\n",
            "\u001b[1m100/100\u001b[0m \u001b[32m━━━━━━━━━━━━━━━━━━━━\u001b[0m\u001b[37m\u001b[0m \u001b[1m42s\u001b[0m 232ms/step - accuracy: 0.7079 - loss: 0.6275 - val_accuracy: 0.7837 - val_loss: 0.5342\n",
            "Epoch 6/30\n",
            "\u001b[1m100/100\u001b[0m \u001b[32m━━━━━━━━━━━━━━━━━━━━\u001b[0m\u001b[37m\u001b[0m \u001b[1m41s\u001b[0m 230ms/step - accuracy: 0.8630 - loss: 0.4279 - val_accuracy: 0.4494 - val_loss: 0.9195\n",
            "Epoch 7/30\n",
            "\u001b[1m100/100\u001b[0m \u001b[32m━━━━━━━━━━━━━━━━━━━━\u001b[0m\u001b[37m\u001b[0m \u001b[1m39s\u001b[0m 215ms/step - accuracy: 0.9024 - loss: 0.3665 - val_accuracy: 0.7831 - val_loss: 0.6170\n",
            "Epoch 8/30\n",
            "\u001b[1m100/100\u001b[0m \u001b[32m━━━━━━━━━━━━━━━━━━━━\u001b[0m\u001b[37m\u001b[0m \u001b[1m42s\u001b[0m 221ms/step - accuracy: 0.9257 - loss: 0.2913 - val_accuracy: 0.7763 - val_loss: 0.6331\n"
          ]
        }
      ]
    },
    {
      "cell_type": "code",
      "source": [
        "# 7. Evaluación\n",
        "preds = np.argmax(model.predict(X_test), axis=1)\n",
        "print(classification_report(y_test, preds))\n",
        "cm = confusion_matrix(y_test, preds)\n",
        "sns.heatmap(cm, annot=True, fmt='d', cmap='magma')\n",
        "plt.xlabel(\"Predicted\")\n",
        "plt.ylabel(\"True\")\n",
        "plt.show()"
      ],
      "metadata": {
        "colab": {
          "base_uri": "https://localhost:8080/",
          "height": 623
        },
        "id": "vzQw0oIzG91G",
        "outputId": "938f661d-158b-4854-9e49-00b90491e75e"
      },
      "execution_count": 18,
      "outputs": [
        {
          "output_type": "stream",
          "name": "stdout",
          "text": [
            "\u001b[1m63/63\u001b[0m \u001b[32m━━━━━━━━━━━━━━━━━━━━\u001b[0m\u001b[37m\u001b[0m \u001b[1m2s\u001b[0m 31ms/step\n",
            "              precision    recall  f1-score   support\n",
            "\n",
            "           0       0.77      0.85      0.81      1110\n",
            "           1       0.78      0.69      0.73       890\n",
            "\n",
            "    accuracy                           0.78      2000\n",
            "   macro avg       0.78      0.77      0.77      2000\n",
            "weighted avg       0.78      0.78      0.77      2000\n",
            "\n"
          ]
        },
        {
          "output_type": "display_data",
          "data": {
            "text/plain": [
              "<Figure size 640x480 with 2 Axes>"
            ],
            "image/png": "[encoded data removed]"
          },
          "metadata": {}
        }
      ]
    },
    {
      "cell_type": "markdown",
      "source": [
        "##CONCLUSIONES##\n",
        "Se logró que modelo alcanzara una precisión del 78% en el conjunto de prueba. Siendo más específicos:\n",
        "\n",
        "Sentimiento Negativo (Clase 0): 77% de precisión, 85% de recall y un F1-score de 81%.\n",
        "\n",
        "Sentimiento Neutral (Clase 1): 78% de precisión, 69% de recall y un F1-score de 73%.\n",
        "\n",
        "Durante el entrenamiento, se usó Early Stopping con una paciencia de 3 épocas para evitar sobreentrenar el modelo. Pudimos notar que la pérdida iba disminuyendo de forma constante, sin embargo, la precisión de validación no fue tan estable: en la época 6, por ejemplo, se desplomó al 44.94%, lo que sugiere cierta inestabilidad en el proceso de aprendizaje.\n",
        "\n",
        "Aun así, se logró captar bien los patrones del conjunto de entrenamiento, puetso que se logró una precisión del 92.57%, indicando que aprendió con eficacia a pesar que la cantidad de datos reducida que se brindó.\n",
        "\n",
        "En conclusión, el rendimiento fue equilibrado entre las diferentes clases, aunque todavía hay espacio para mejorar en la clasificación de comentarios neutros. La matriz de confusión mostró que el modelo sigue teniendo dificultades para distinguir entre comentarios negativos y neutros, cosa que podría solucionarse ingresando una mayor cantidad de datos.\n",
        "\n"
      ],
      "metadata": {
        "id": "EEwCLNwhOLjd"
      }
    }
  ]
}